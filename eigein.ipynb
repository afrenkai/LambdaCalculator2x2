{
  "cells": [
    {
      "cell_type": "markdown",
      "metadata": {
        "id": "m8Yw5gHt0519"
      },
      "source": [
        "# 2x2 eigenvalue calculator\n",
        "\n",
        "Using the common form \\\n",
        "\\\n",
        " $\\lambda1 = \\frac{T + (T^2 -4D)^\\frac{1}{2}}{2}$ \\\n",
        " $\\lambda2 = \\frac{T - (T^2 -4D)^\\frac{1}{2}}{2}$ \n",
        "\n",
        " Where\n",
        " - $T = a+d$ \n",
        " - $D = (ad) -(bc)$ \n"
      ]
    },
    {
      "cell_type": "code",
      "execution_count": 12,
      "metadata": {
        "id": "p4vwCgzDyw7b"
      },
      "outputs": [
        {
          "data": {
            "text/plain": [
              "[[0.49282869280659514, 0.8701263583793694],\n",
              " [-0.4038018054942862, 0.9148464908822433]]"
            ]
          },
          "execution_count": 12,
          "metadata": {},
          "output_type": "execute_result"
        }
      ],
      "source": [
        "def calculate_eigenvalues(matrix: list[list[float|int]]) -> list[float]:\n",
        "  eigenvalues = []\n",
        "  a, b = matrix[0]\n",
        "  c, d = matrix[1]\n",
        "    \n",
        "\n",
        "  trace = a + d\n",
        "  det = (a*d) - (b*c)\n",
        "\n",
        "  l1 = (trace + (trace **2 - (4 * det))**0.5)/2\n",
        "  eigenvalues.append(round(l1, 4))\n",
        "  l2 = (trace - (trace **2 - (4 * det))**0.5)/2\n",
        "  eigenvalues.append(round(l2, 4))\n",
        "  return eigenvalues\n",
        "\n",
        "# matrix = [[5,2], [8,4]]\n",
        "# calculate_eigenvalues(matrix)\n",
        "\n",
        "def calculate_eigenvectors(matrix: list[list[float|int]], eigenvalues: list[float]): \n",
        "    a, b = matrix[0]\n",
        "    c, d = matrix[1]\n",
        "    eigenvectors = []\n",
        "    for eigenvalue in eigenvalues:\n",
        "      if abs(b) > abs(c):\n",
        "        v = [b, eigenvalue-a]\n",
        "      else:\n",
        "        v = [eigenvalue -d, c]\n",
        "      magnitude = (v[0]**2 + v[1]**2)**0.5\n",
        "      v = [v[0]/magnitude, v[1]/magnitude]\n",
        "      eigenvectors.append(v)\n",
        "    return eigenvectors\n",
        "\n",
        "\n",
        "\n",
        "matrix = [[5,2], [8,4]]\n",
        "calculate_eigenvectors(matrix, calculate_eigenvalues(matrix))\n"
      ]
    },
    {
      "cell_type": "code",
      "execution_count": 7,
      "metadata": {
        "colab": {
          "base_uri": "https://localhost:8080/"
        },
        "id": "xDd9fO5jy8PB",
        "outputId": "9b38120d-4af8-488d-b87f-a3367da19cc6"
      },
      "outputs": [
        {
          "data": {
            "text/plain": [
              "[[4.5311, 8], [-3.5311, 8]]"
            ]
          },
          "execution_count": 7,
          "metadata": {},
          "output_type": "execute_result"
        }
      ],
      "source": [
        "\n"
      ]
    }
  ],
  "metadata": {
    "colab": {
      "authorship_tag": "ABX9TyMGApp5Ibn2Bg//mjHBuLnY",
      "provenance": [],
      "toc_visible": true
    },
    "kernelspec": {
      "display_name": "Python 3",
      "name": "python3"
    },
    "language_info": {
      "codemirror_mode": {
        "name": "ipython",
        "version": 3
      },
      "file_extension": ".py",
      "mimetype": "text/x-python",
      "name": "python",
      "nbconvert_exporter": "python",
      "pygments_lexer": "ipython3",
      "version": "3.10.13"
    }
  },
  "nbformat": 4,
  "nbformat_minor": 0
}
