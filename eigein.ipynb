{
  "nbformat": 4,
  "nbformat_minor": 0,
  "metadata": {
    "colab": {
      "provenance": [],
      "toc_visible": true,
      "authorship_tag": "ABX9TyMGApp5Ibn2Bg//mjHBuLnY"
    },
    "kernelspec": {
      "name": "python3",
      "display_name": "Python 3"
    },
    "language_info": {
      "name": "python"
    }
  },
  "cells": [
    {
      "cell_type": "markdown",
      "source": [
        "# 2x2 eigenvalue calculator\n",
        "\n",
        "Using the common form \\\\\n",
        " $\\lambda1 = \\frac{T + (T^2 -4D)^\\frac{1}{2}}{2}$ \\\\\n",
        " $\\lambda2 = \\frac{T - (T^2 -4D)^\\frac{1}{2}}{2}$ \\\\\n",
        "\n",
        " Where\n",
        " - $T = a+d$ \\\\\n",
        " - $D = (ad) -(bc)$ \\\\\n"
      ],
      "metadata": {
        "id": "m8Yw5gHt0519"
      }
    },
    {
      "cell_type": "code",
      "execution_count": null,
      "metadata": {
        "id": "p4vwCgzDyw7b"
      },
      "outputs": [],
      "source": [
        "def calculate_eigenvalues(matrix: list[list[float|int]]) -> list[float]:\n",
        "  eigenvalues = []\n",
        "\n",
        "  a = matrix[0][0]\n",
        "  b = matrix[0][1]\n",
        "  c = matrix[1][0]\n",
        "  d = matrix[1][1]\n",
        "\n",
        "  trace = a + d\n",
        "  det = (a*d) - (b*c)\n",
        "\n",
        "  l1 = (trace + (trace **2 - (4 * det))**0.5)/2\n",
        "  eigenvalues.append(round(l1, 4))\n",
        "  l2 = (trace - (trace **2 - (4 * det))**0.5)/2\n",
        "  eigenvalues.append(round(l2, 4))\n",
        "  return eigenvalues\n"
      ]
    },
    {
      "cell_type": "code",
      "source": [
        "matrix = [[7, 4], [6, 3]]\n",
        "\n",
        "calculate_eigenvalues(matrix)"
      ],
      "metadata": {
        "colab": {
          "base_uri": "https://localhost:8080/"
        },
        "id": "xDd9fO5jy8PB",
        "outputId": "9b38120d-4af8-488d-b87f-a3367da19cc6"
      },
      "execution_count": null,
      "outputs": [
        {
          "output_type": "execute_result",
          "data": {
            "text/plain": [
              "[10.2915, -0.2915]"
            ]
          },
          "metadata": {},
          "execution_count": 20
        }
      ]
    }
  ]
}