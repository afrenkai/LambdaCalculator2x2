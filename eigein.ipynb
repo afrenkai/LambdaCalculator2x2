{
  "cells": [
    {
      "cell_type": "markdown",
      "metadata": {
        "id": "m8Yw5gHt0519"
      },
      "source": [
        "# 2x2 eigenvalue calculator\n",
        "\n",
        "Using the common form \\\n",
        "\\\n",
        " $\\lambda1 = \\frac{T + (T^2 -4D)^\\frac{1}{2}}{2}$ \\\n",
        " $\\lambda2 = \\frac{T - (T^2 -4D)^\\frac{1}{2}}{2}$ \n",
        "\n",
        " Where\n",
        " - $T = a+d$ \n",
        " - $D = (ad) -(bc)$ \n"
      ]
    },
    {
      "cell_type": "code",
      "execution_count": 3,
      "metadata": {
        "id": "p4vwCgzDyw7b"
      },
      "outputs": [],
      "source": [
        "def calculate_eigenvalues(matrix: list[list[float|int]]) -> list[float]:\n",
        "  eigenvalues = []\n",
        "  a = matrix[0][0]\n",
        "  b = matrix[0][1]\n",
        "  c = matrix[1][0]\n",
        "  d = matrix[1][1]\n",
        "\n",
        "  trace = a + d\n",
        "  det = (a*d) - (b*c)\n",
        "\n",
        "  l1 = (trace + (trace **2 - (4 * det))**0.5)/2\n",
        "  eigenvalues.append(round(l1, 4))\n",
        "  l2 = (trace - (trace **2 - (4 * det))**0.5)/2\n",
        "  eigenvalues.append(round(l2, 4))\n",
        "  return eigenvalues\n"
      ]
    },
    {
      "cell_type": "code",
      "execution_count": 5,
      "metadata": {
        "colab": {
          "base_uri": "https://localhost:8080/"
        },
        "id": "xDd9fO5jy8PB",
        "outputId": "9b38120d-4af8-488d-b87f-a3367da19cc6"
      },
      "outputs": [
        {
          "data": {
            "text/plain": [
              "[[1.0, 1], [-1.0, 1]]"
            ]
          },
          "execution_count": 5,
          "metadata": {},
          "output_type": "execute_result"
        }
      ],
      "source": [
        "matrix = [[2,1], [1,2]]\n",
        "\n",
        "def calculate_eigenvectors(matrix: list[list[float|int]], eigenvalues: list[float]): \n",
        "    a = matrix[0][0]\n",
        "    b = matrix[0][1]\n",
        "    c = matrix[1][0]\n",
        "    d = matrix[1][1]\n",
        "\n",
        "    if c != 0:\n",
        "        eigenvectors = [[eigenvalues[0]-d, c], [eigenvalues[1]-d, c]]\n",
        "    elif b != 0:\n",
        "        eigenvectors = [[b, eigenvalues[0]-a], [b, eigenvalues[1]-a]]\n",
        "    elif b == 0 & c == 0:\n",
        "        eigenvectors = [[1, 0], [0,1]]\n",
        "    else:\n",
        "        print('bro broke linear algebra lol')\n",
        "    return eigenvectors\n",
        "\n",
        "calculate_eigenvectors(matrix, calculate_eigenvalues(matrix))\n"
      ]
    }
  ],
  "metadata": {
    "colab": {
      "authorship_tag": "ABX9TyMGApp5Ibn2Bg//mjHBuLnY",
      "provenance": [],
      "toc_visible": true
    },
    "kernelspec": {
      "display_name": "Python 3",
      "name": "python3"
    },
    "language_info": {
      "codemirror_mode": {
        "name": "ipython",
        "version": 3
      },
      "file_extension": ".py",
      "mimetype": "text/x-python",
      "name": "python",
      "nbconvert_exporter": "python",
      "pygments_lexer": "ipython3",
      "version": "3.10.13"
    }
  },
  "nbformat": 4,
  "nbformat_minor": 0
}
